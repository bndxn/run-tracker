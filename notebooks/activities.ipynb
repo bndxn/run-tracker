{
 "cells": [
  {
   "cell_type": "markdown",
   "metadata": {},
   "source": [
    "# See a Summary of All Activities"
   ]
  },
  {
   "cell_type": "code",
   "execution_count": 24,
   "metadata": {},
   "outputs": [
    {
     "name": "stdout",
     "output_type": "stream",
     "text": [
      "ID: 18512135615, City of Westminster Running, 11.45664, 2025-03-12 13:14:23\n",
      "ID: 18507453175, Camden Running, 6.24337, 2025-03-11 18:44:22\n",
      "ID: 18507452374, Islington Running, 6.5771500000000005, 2025-03-11 09:11:58\n",
      "ID: 18486379882, Haringey Running, 2.50825, 2025-03-09 17:12:10\n",
      "ID: 18486378797, Islington Running, 2.87216, 2025-03-09 16:30:02\n",
      "ID: 18473196012, Islington Running, 9.07723, 2025-03-08 12:34:46\n",
      "ID: 18459081480, City of Westminster Running, 6.72752, 2025-03-06 18:51:08\n",
      "ID: 18453382681, Islington Running, 6.2091, 2025-03-06 09:07:49\n",
      "ID: 18440410810, Haringey Running, 2.70134, 2025-03-04 20:29:02\n",
      "ID: 18440410411, Haringey Running, 6.58276, 2025-03-04 20:08:39\n"
     ]
    }
   ],
   "source": []
  },
  {
   "cell_type": "code",
   "execution_count": null,
   "metadata": {},
   "outputs": [],
   "source": []
  }
 ],
 "metadata": {
  "interpreter": {
   "hash": "d4f50e87ad7f9cd136d9d3dcf547b8236ee2585f92d0ab7c53dfb80e44e3fae9"
  },
  "kernelspec": {
   "display_name": "Python 3 (ipykernel)",
   "language": "python",
   "name": "python3"
  },
  "language_info": {
   "codemirror_mode": {
    "name": "ipython",
    "version": 3
   },
   "file_extension": ".py",
   "mimetype": "text/x-python",
   "name": "python",
   "nbconvert_exporter": "python",
   "pygments_lexer": "ipython3",
   "version": "3.13.2"
  }
 },
 "nbformat": 4,
 "nbformat_minor": 4
}
